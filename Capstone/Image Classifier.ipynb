{
 "cells": [
  {
   "cell_type": "code",
   "execution_count": 1,
   "metadata": {},
   "outputs": [],
   "source": [
    "import sys\n",
    "import numpy as np # linear algebra\n",
    "import pandas as pd # data processing, CSV file I/O (e.g. pd.read_csv)\n",
    "import keras # Using TensorFlow backend.\n",
    "import tensorflow as tf\n",
    "import random\n",
    "from keras.layers import  Conv2D, MaxPooling2D, Flatten, Dense, Dropout\n",
    "from keras.callbacks import EarlyStopping\n",
    "from PIL import Image, ImageOps\n",
    "from skimage import io, color\n",
    "from sklearn.utils import class_weight\n",
    "from imblearn.over_sampling import RandomOverSampler \n",
    "from imblearn.under_sampling import RandomUnderSampler "
   ]
  },
  {
   "cell_type": "code",
   "execution_count": 2,
   "metadata": {},
   "outputs": [],
   "source": [
    "# Read data with labels\n",
    "data_labels = pd.read_csv(r\"C:\\Users\\giant\\hasyv2-dataset-friend-of-mnist\\HASYv2\\hasy-data-labels.csv\")"
   ]
  },
  {
   "cell_type": "code",
   "execution_count": 3,
   "metadata": {},
   "outputs": [
    {
     "data": {
      "text/html": [
       "<div>\n",
       "<style scoped>\n",
       "    .dataframe tbody tr th:only-of-type {\n",
       "        vertical-align: middle;\n",
       "    }\n",
       "\n",
       "    .dataframe tbody tr th {\n",
       "        vertical-align: top;\n",
       "    }\n",
       "\n",
       "    .dataframe thead th {\n",
       "        text-align: right;\n",
       "    }\n",
       "</style>\n",
       "<table border=\"1\" class=\"dataframe\">\n",
       "  <thead>\n",
       "    <tr style=\"text-align: right;\">\n",
       "      <th></th>\n",
       "      <th>path</th>\n",
       "      <th>symbol_id</th>\n",
       "      <th>latex</th>\n",
       "      <th>user_id</th>\n",
       "    </tr>\n",
       "  </thead>\n",
       "  <tbody>\n",
       "    <tr>\n",
       "      <th>168367</th>\n",
       "      <td>hasy-data/v2-190036.png</td>\n",
       "      <td>1555</td>\n",
       "      <td>\\smile</td>\n",
       "      <td>1</td>\n",
       "    </tr>\n",
       "    <tr>\n",
       "      <th>168368</th>\n",
       "      <td>hasy-data/v2-190037.png</td>\n",
       "      <td>1555</td>\n",
       "      <td>\\smile</td>\n",
       "      <td>1</td>\n",
       "    </tr>\n",
       "    <tr>\n",
       "      <th>168369</th>\n",
       "      <td>hasy-data/v2-190038.png</td>\n",
       "      <td>1555</td>\n",
       "      <td>\\smile</td>\n",
       "      <td>1</td>\n",
       "    </tr>\n",
       "    <tr>\n",
       "      <th>168370</th>\n",
       "      <td>hasy-data/v2-190039.png</td>\n",
       "      <td>1555</td>\n",
       "      <td>\\smile</td>\n",
       "      <td>1</td>\n",
       "    </tr>\n",
       "    <tr>\n",
       "      <th>168371</th>\n",
       "      <td>hasy-data/v2-190040.png</td>\n",
       "      <td>1555</td>\n",
       "      <td>\\smile</td>\n",
       "      <td>1</td>\n",
       "    </tr>\n",
       "  </tbody>\n",
       "</table>\n",
       "</div>"
      ],
      "text/plain": [
       "                           path  symbol_id   latex  user_id\n",
       "168367  hasy-data/v2-190036.png       1555  \\smile        1\n",
       "168368  hasy-data/v2-190037.png       1555  \\smile        1\n",
       "168369  hasy-data/v2-190038.png       1555  \\smile        1\n",
       "168370  hasy-data/v2-190039.png       1555  \\smile        1\n",
       "168371  hasy-data/v2-190040.png       1555  \\smile        1"
      ]
     },
     "execution_count": 3,
     "metadata": {},
     "output_type": "execute_result"
    }
   ],
   "source": [
    "# Display top 5 records to show the data was imported successfully\n",
    "data_labels.tail()"
   ]
  },
  {
   "cell_type": "code",
   "execution_count": 4,
   "metadata": {},
   "outputs": [
    {
     "name": "stdout",
     "output_type": "stream",
     "text": [
      "['\\\\varpropto', 'Z', 'u', '\\\\mathds{R}', '\\\\trianglelefteq', '\\\\star', 'n', '\\\\mathcal{G}', '\\\\backslash', '\\\\xi', 'N', '\\\\neq', '\\\\circledR', '\\\\mathcal{E}', '\\\\dotsc']\n"
     ]
    }
   ],
   "source": [
    "# Dsiplay sample of all unique labels supported for symbols\n",
    "unique = list(data_labels[\"latex\"].unique())\n",
    "print(random.sample(unique,15))"
   ]
  },
  {
   "cell_type": "code",
   "execution_count": 90,
   "metadata": {},
   "outputs": [],
   "source": [
    "# Extracting data only for labels we are interested in\n",
    "df = data_labels.loc[data_labels[\"latex\"].isin(['0','1','2','3','4','5','6','7','8','9','\\\\pi','\\\\frown','\\\\smile',\n",
    "                                                '+','-','/','|',']','[','=','\\\\ast','\\\\bullet',\n",
    "                                                '\\\\leq', '\\\\geq', '<', '>','\\\\div','\\\\times',\n",
    "                                                'A', 'B', 'D', 'E', 'F', 'G', 'H', 'J', 'K', 'L', 'M',\n",
    "                                                'N', 'Q', 'R', 'T', 'U', 'V', 'Y', 'Z','\\\\cdot',\n",
    "                                                'a', 'b', 'c', 'd', 'e', 'f', 'g', 'h', 'j', 'k', 'm',\n",
    "                                                'n', 'p', 'q', 'r', 's','u', 'v', 'w', 'x', 'y', 'z'])]"
   ]
  },
  {
   "cell_type": "code",
   "execution_count": 91,
   "metadata": {},
   "outputs": [
    {
     "data": {
      "text/plain": [
       "<AxesSubplot:>"
      ]
     },
     "execution_count": 91,
     "metadata": {},
     "output_type": "execute_result"
    },
    {
     "data": {
      "image/png": "[encoded data removed]",
      "text/plain": [
       "<Figure size 1152x288 with 1 Axes>"
      ]
     },
     "metadata": {
      "needs_background": "light"
     },
     "output_type": "display_data"
    }
   ],
   "source": [
    "# Plot number of images per labels\n",
    "df = df[['path','latex']]\n",
    "df = df.sample(frac=1)\n",
    "df.shape\n",
    "df.latex.value_counts().plot.bar(figsize=(16, 4))"
   ]
  },
  {
   "cell_type": "code",
   "execution_count": 92,
   "metadata": {},
   "outputs": [],
   "source": [
    "# To fight class imbalance, we prepare data for undersampling by creating dict\n",
    "# of classes with high counts\n",
    "s = df.latex.value_counts()\n",
    "s = s.to_dict()\n",
    "s['\\\\pi']=335;s['\\\\times']=335;s['\\\\leq']=335;s['\\\\geq']=335;\n",
    "s['\\\\cdot']=335;s['\\\\ast']=335;s['\\\\bullet']=335;s['\\\\div']=335;\n",
    "s['/']=335;s['|']=335;s['[']=335"
   ]
  },
  {
   "cell_type": "code",
   "execution_count": 93,
   "metadata": {},
   "outputs": [
    {
     "data": {
      "text/plain": [
       "<AxesSubplot:>"
      ]
     },
     "execution_count": 93,
     "metadata": {},
     "output_type": "execute_result"
    },
    {
     "data": {
      "image/png": "[encoded data removed]",
      "text/plain": [
       "<Figure size 1152x288 with 1 Axes>"
      ]
     },
     "metadata": {
      "needs_background": "light"
     },
     "output_type": "display_data"
    }
   ],
   "source": [
    "# Perform undersampling, then plot results\n",
    "Xn, yn = RandomUnderSampler(sampling_strategy=s).fit_resample(X=df['path'].values.reshape(-1, 1), y=df['latex'])\n",
    "df2 = pd.DataFrame(data=Xn,columns=['path'])\n",
    "df2['latex']=yn\n",
    "df2 = df2.sample(frac=1)\n",
    "df2.latex.value_counts().plot.bar(figsize=(16, 4))"
   ]
  },
  {
   "cell_type": "code",
   "execution_count": 94,
   "metadata": {},
   "outputs": [
    {
     "data": {
      "text/plain": [
       "<AxesSubplot:>"
      ]
     },
     "execution_count": 94,
     "metadata": {},
     "output_type": "execute_result"
    },
    {
     "data": {
      "image/png": "[encoded data removed]",
      "text/plain": [
       "<Figure size 1152x288 with 1 Axes>"
      ]
     },
     "metadata": {
      "needs_background": "light"
     },
     "output_type": "display_data"
    }
   ],
   "source": [
    "# Perform oversampling to make each class contain same number of images\n",
    "Xn, yn = RandomOverSampler().fit_resample(X=df2['path'].values.reshape(-1, 1), y=df2['latex'])\n",
    "df2 = pd.DataFrame(data=Xn,columns=['path'])\n",
    "df2['latex']=yn\n",
    "df2 = df2.sample(frac=1)\n",
    "df2.latex.value_counts().plot.bar(figsize=(16, 4))"
   ]
  },
  {
   "cell_type": "code",
   "execution_count": 95,
   "metadata": {},
   "outputs": [
    {
     "data": {
      "text/plain": [
       "(23450, 32, 32, 3)"
      ]
     },
     "execution_count": 95,
     "metadata": {},
     "output_type": "execute_result"
    }
   ],
   "source": [
    "# Preparing training data as numpy array of vectors from raw images\n",
    "base = 'C:\\\\Users\\\\giant\\\\hasyv2-dataset-friend-of-mnist\\\\HASYv2\\\\'\n",
    "\n",
    "listOfB = []\n",
    "bad = []\n",
    "for items in df2['path'].iteritems(): \n",
    "    pil_im = Image.open(base +items[1], 'r')\n",
    "    pil_im = ImageOps.grayscale(pil_im)\n",
    "    pil_im = pil_im.convert('RGB')\n",
    "    array1 = np.asarray(pil_im)/255.\n",
    "    listOfB.append(array1)\n",
    "B = np.array(listOfB) \n",
    "train_x = B\n",
    "train_x.shape"
   ]
  },
  {
   "cell_type": "code",
   "execution_count": 96,
   "metadata": {},
   "outputs": [
    {
     "data": {
      "text/plain": [
       "70"
      ]
     },
     "execution_count": 96,
     "metadata": {},
     "output_type": "execute_result"
    }
   ],
   "source": [
    "# Get number of classes\n",
    "classes = ['0','1','2','3','4','5','6','7','8','9','\\\\pi','\\\\frown','\\\\smile',\n",
    "            '+','-','/','|',']','[','=','\\\\ast','\\\\bullet',\n",
    "            '\\\\leq', '\\\\geq', '<', '>','\\\\div','\\\\times',\n",
    "            'A', 'B', 'D', 'E', 'F', 'G', 'H', 'J', 'K', 'L', 'M',\n",
    "            'N', 'Q', 'R', 'T', 'U', 'V', 'Y', 'Z','\\\\cdot',\n",
    "            'a', 'b', 'c', 'd', 'e', 'f', 'g', 'h', 'j', 'k', 'm',\n",
    "            'n', 'p', 'q', 'r', 's','u', 'v', 'w', 'x', 'y', 'z']\n",
    "len(classes)"
   ]
  },
  {
   "cell_type": "code",
   "execution_count": 97,
   "metadata": {},
   "outputs": [
    {
     "name": "stdout",
     "output_type": "stream",
     "text": [
      "(23450, 70)\n"
     ]
    }
   ],
   "source": [
    "# Preparing categorical labels for multiclass classification (categorical crossentropy)\n",
    "train_y = df2['latex']\n",
    "listOfk = []\n",
    "for items in df2['latex'].iteritems():\n",
    "    intermediate = np.zeros(len(classes))\n",
    "    index = classes.index(items[1])\n",
    "    intermediate[index] = 1\n",
    "    listOfk.append(intermediate)\n",
    "categorical_labels = np.array(listOfk) \n",
    "train_y = categorical_labels\n",
    "print(train_y.shape)"
   ]
  },
  {
   "cell_type": "code",
   "execution_count": 98,
   "metadata": {},
   "outputs": [
    {
     "name": "stdout",
     "output_type": "stream",
     "text": [
      "Model: \"sequential_9\"\n",
      "_________________________________________________________________\n",
      " Layer (type)                Output Shape              Param #   \n",
      "=================================================================\n",
      " conv2d_26 (Conv2D)          (None, 16, 16, 32)        2432      \n",
      "                                                                 \n",
      " max_pooling2d_26 (MaxPoolin  (None, 8, 8, 32)         0         \n",
      " g2D)                                                            \n",
      "                                                                 \n",
      " conv2d_27 (Conv2D)          (None, 8, 8, 32)          25632     \n",
      "                                                                 \n",
      " max_pooling2d_27 (MaxPoolin  (None, 4, 4, 32)         0         \n",
      " g2D)                                                            \n",
      "                                                                 \n",
      " conv2d_28 (Conv2D)          (None, 4, 4, 32)          25632     \n",
      "                                                                 \n",
      " max_pooling2d_28 (MaxPoolin  (None, 2, 2, 32)         0         \n",
      " g2D)                                                            \n",
      "                                                                 \n",
      " flatten_9 (Flatten)         (None, 128)               0         \n",
      "                                                                 \n",
      " dense_25 (Dense)            (None, 128)               16512     \n",
      "                                                                 \n",
      " dense_26 (Dense)            (None, 32)                4128      \n",
      "                                                                 \n",
      " dense_27 (Dense)            (None, 70)                2310      \n",
      "                                                                 \n",
      "=================================================================\n",
      "Total params: 76,646\n",
      "Trainable params: 76,646\n",
      "Non-trainable params: 0\n",
      "_________________________________________________________________\n"
     ]
    }
   ],
   "source": [
    "# # preparing neural network model using keras API\n",
    "model = keras.models.Sequential()\n",
    "model.add(Conv2D(32,kernel_size=(5, 5),strides=(2, 2),padding=\"same\",input_shape=(32,32,3),activation='relu'))\n",
    "model.add(MaxPooling2D(pool_size=(2, 2),strides=(2, 2)))\n",
    "model.add(Conv2D(32,kernel_size=(5, 5),activation='relu',padding=\"same\"))\n",
    "model.add(MaxPooling2D(pool_size=(2, 2)))\n",
    "model.add(Conv2D(32,kernel_size=(5, 5),activation='relu',padding=\"same\"))\n",
    "model.add(MaxPooling2D(pool_size=(2, 2)))\n",
    "model.add(Flatten())\n",
    "model.add(Dense(128, activation='relu'))\n",
    "model.add(Dense(32))\n",
    "model.add(Dense(70, activation='softmax'))\n",
    "model.compile(loss='categorical_crossentropy', optimizer=tf.keras.optimizers.Adam(learning_rate=0.001), metrics=['accuracy'])\n",
    "model.summary()"
   ]
  },
  {
   "cell_type": "code",
   "execution_count": 99,
   "metadata": {},
   "outputs": [
    {
     "name": "stdout",
     "output_type": "stream",
     "text": [
      "Epoch 1/10\n",
      "587/587 [==============================] - 26s 43ms/step - loss: 3.1464 - accuracy: 0.1937 - val_loss: 1.9903 - val_accuracy: 0.4107\n",
      "Epoch 2/10\n",
      "587/587 [==============================] - 29s 49ms/step - loss: 1.5634 - accuracy: 0.5398 - val_loss: 1.2620 - val_accuracy: 0.6166\n",
      "Epoch 3/10\n",
      "587/587 [==============================] - 25s 43ms/step - loss: 1.1340 - accuracy: 0.6541 - val_loss: 1.0268 - val_accuracy: 0.6932\n",
      "Epoch 4/10\n",
      "587/587 [==============================] - 24s 41ms/step - loss: 0.9449 - accuracy: 0.7064 - val_loss: 0.8865 - val_accuracy: 0.7292\n",
      "Epoch 5/10\n",
      "587/587 [==============================] - 23s 39ms/step - loss: 0.8439 - accuracy: 0.7339 - val_loss: 0.7554 - val_accuracy: 0.7601\n",
      "Epoch 6/10\n",
      "587/587 [==============================] - 24s 42ms/step - loss: 0.7693 - accuracy: 0.7537 - val_loss: 0.7277 - val_accuracy: 0.7608\n",
      "Epoch 7/10\n",
      "587/587 [==============================] - 24s 41ms/step - loss: 0.7090 - accuracy: 0.7690 - val_loss: 0.6829 - val_accuracy: 0.7738\n",
      "Epoch 8/10\n",
      "587/587 [==============================] - 25s 43ms/step - loss: 0.6639 - accuracy: 0.7802 - val_loss: 0.6443 - val_accuracy: 0.7855\n",
      "Epoch 9/10\n",
      "587/587 [==============================] - 25s 43ms/step - loss: 0.6331 - accuracy: 0.7913 - val_loss: 0.6199 - val_accuracy: 0.8019\n",
      "Epoch 10/10\n",
      "587/587 [==============================] - 28s 47ms/step - loss: 0.5961 - accuracy: 0.8045 - val_loss: 0.5800 - val_accuracy: 0.8064\n"
     ]
    }
   ],
   "source": [
    "# Create Data Augmentation Generator\n",
    "data_generator_with_aug = keras.preprocessing.image.ImageDataGenerator(validation_split=.2, width_shift_range=.12,\n",
    "                                                                       height_shift_range=.12, rotation_range=18,\n",
    "                                                                       zoom_range=.12, shear_range=.12, rescale=0.05)\n",
    "\n",
    "# separate data into training and validation sets\n",
    "training_data_generator = data_generator_with_aug.flow(train_x, train_y, subset='training')\n",
    "validation_data_generator = data_generator_with_aug.flow(train_x, train_y, subset='validation')\n",
    "\n",
    "# Fit the Model\n",
    "history = model.fit(training_data_generator, #class_weight=weights,\n",
    "                    epochs=10,validation_data=validation_data_generator)"
   ]
  },
  {
   "cell_type": "code",
   "execution_count": 100,
   "metadata": {},
   "outputs": [],
   "source": [
    "# Save model for accessing later\n",
    "model.save(r'C:\\Users\\giant\\hasyv2-dataset-friend-of-mnist\\HASYv2\\maths_model.h5')"
   ]
  }
 ],
 "metadata": {
  "kernelspec": {
   "display_name": "Python 3",
   "language": "python",
   "name": "python3"
  },
  "language_info": {
   "codemirror_mode": {
    "name": "ipython",
    "version": 3
   },
   "file_extension": ".py",
   "mimetype": "text/x-python",
   "name": "python",
   "nbconvert_exporter": "python",
   "pygments_lexer": "ipython3",
   "version": "3.8.5"
  }
 },
 "nbformat": 4,
 "nbformat_minor": 4
}
