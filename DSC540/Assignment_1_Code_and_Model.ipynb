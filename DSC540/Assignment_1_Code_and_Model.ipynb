{
 "cells": [
  {
   "cell_type": "code",
   "execution_count": 65,
   "metadata": {
    "scrolled": true
   },
   "outputs": [
    {
     "data": {
      "text/plain": [
       "array([[ 0,  1,  2,  3,  4],\n",
       "       [ 5,  6,  7,  8,  9],\n",
       "       [10, 11, 12, 13, 14]])"
      ]
     },
     "execution_count": 65,
     "metadata": {},
     "output_type": "execute_result"
    }
   ],
   "source": [
    "import csv\n",
    "import pandas as pd\n",
    "import numpy as np\n",
    "import matplotlib.pyplot as plt\n",
    "import sklearn\n",
    "#Importing the packages, and some sample codes to show they are running properly. \n",
    "a = np.arange(15).reshape(3, 5)\n",
    "a"
   ]
  },
  {
   "cell_type": "code",
   "execution_count": 61,
   "metadata": {
    "scrolled": true
   },
   "outputs": [
    {
     "data": {
      "text/plain": [
       "0    1.0\n",
       "1    3.0\n",
       "2    5.0\n",
       "3    NaN\n",
       "4    6.0\n",
       "5    8.0\n",
       "dtype: float64"
      ]
     },
     "execution_count": 61,
     "metadata": {},
     "output_type": "execute_result"
    }
   ],
   "source": [
    "s = pd.Series([1,3,5,np.nan,6,8])\n",
    "s"
   ]
  },
  {
   "cell_type": "code",
   "execution_count": 66,
   "metadata": {},
   "outputs": [
    {
     "data": {
      "image/png": "[encoded data removed]",
      "text/plain": [
       "<Figure size 432x288 with 1 Axes>"
      ]
     },
     "metadata": {
      "needs_background": "light"
     },
     "output_type": "display_data"
    }
   ],
   "source": [
    "plt.plot([1,2,3,4])\n",
    "plt.ylabel('some numbers')\n",
    "plt.show()"
   ]
  },
  {
   "cell_type": "code",
   "execution_count": 69,
   "metadata": {},
   "outputs": [
    {
     "data": {
      "text/plain": [
       "SVC(C=100.0, break_ties=False, cache_size=200, class_weight=None, coef0=0.0,\n",
       "    decision_function_shape='ovr', degree=3, gamma=0.001, kernel='rbf',\n",
       "    max_iter=-1, probability=False, random_state=None, shrinking=True,\n",
       "    tol=0.001, verbose=False)"
      ]
     },
     "execution_count": 69,
     "metadata": {},
     "output_type": "execute_result"
    }
   ],
   "source": [
    "from sklearn import svm\n",
    "clf = svm.SVC(gamma=0.001, C=100.)\n",
    "clf"
   ]
  },
  {
   "cell_type": "code",
   "execution_count": 70,
   "metadata": {},
   "outputs": [
    {
     "data": {
      "text/html": [
       "<div>\n",
       "<style scoped>\n",
       "    .dataframe tbody tr th:only-of-type {\n",
       "        vertical-align: middle;\n",
       "    }\n",
       "\n",
       "    .dataframe tbody tr th {\n",
       "        vertical-align: top;\n",
       "    }\n",
       "\n",
       "    .dataframe thead th {\n",
       "        text-align: right;\n",
       "    }\n",
       "</style>\n",
       "<table border=\"1\" class=\"dataframe\">\n",
       "  <thead>\n",
       "    <tr style=\"text-align: right;\">\n",
       "      <th></th>\n",
       "      <th>longitude</th>\n",
       "      <th>latitude</th>\n",
       "      <th>housing_median_age</th>\n",
       "      <th>total_rooms</th>\n",
       "      <th>total_bedrooms</th>\n",
       "      <th>population</th>\n",
       "      <th>households</th>\n",
       "      <th>median_income</th>\n",
       "      <th>median_house_value</th>\n",
       "      <th>ocean_proximity</th>\n",
       "    </tr>\n",
       "  </thead>\n",
       "  <tbody>\n",
       "    <tr>\n",
       "      <th>0</th>\n",
       "      <td>-122.23</td>\n",
       "      <td>37.88</td>\n",
       "      <td>41.0</td>\n",
       "      <td>880.0</td>\n",
       "      <td>129.0</td>\n",
       "      <td>322.0</td>\n",
       "      <td>126.0</td>\n",
       "      <td>8.3252</td>\n",
       "      <td>452600.0</td>\n",
       "      <td>NEAR BAY</td>\n",
       "    </tr>\n",
       "    <tr>\n",
       "      <th>1</th>\n",
       "      <td>-122.22</td>\n",
       "      <td>37.86</td>\n",
       "      <td>21.0</td>\n",
       "      <td>7099.0</td>\n",
       "      <td>1106.0</td>\n",
       "      <td>2401.0</td>\n",
       "      <td>1138.0</td>\n",
       "      <td>8.3014</td>\n",
       "      <td>358500.0</td>\n",
       "      <td>NEAR BAY</td>\n",
       "    </tr>\n",
       "    <tr>\n",
       "      <th>2</th>\n",
       "      <td>-122.24</td>\n",
       "      <td>37.85</td>\n",
       "      <td>52.0</td>\n",
       "      <td>1467.0</td>\n",
       "      <td>190.0</td>\n",
       "      <td>496.0</td>\n",
       "      <td>177.0</td>\n",
       "      <td>7.2574</td>\n",
       "      <td>352100.0</td>\n",
       "      <td>NEAR BAY</td>\n",
       "    </tr>\n",
       "    <tr>\n",
       "      <th>3</th>\n",
       "      <td>-122.25</td>\n",
       "      <td>37.85</td>\n",
       "      <td>52.0</td>\n",
       "      <td>1274.0</td>\n",
       "      <td>235.0</td>\n",
       "      <td>558.0</td>\n",
       "      <td>219.0</td>\n",
       "      <td>5.6431</td>\n",
       "      <td>341300.0</td>\n",
       "      <td>NEAR BAY</td>\n",
       "    </tr>\n",
       "    <tr>\n",
       "      <th>4</th>\n",
       "      <td>-122.25</td>\n",
       "      <td>37.85</td>\n",
       "      <td>52.0</td>\n",
       "      <td>1627.0</td>\n",
       "      <td>280.0</td>\n",
       "      <td>565.0</td>\n",
       "      <td>259.0</td>\n",
       "      <td>3.8462</td>\n",
       "      <td>342200.0</td>\n",
       "      <td>NEAR BAY</td>\n",
       "    </tr>\n",
       "  </tbody>\n",
       "</table>\n",
       "</div>"
      ],
      "text/plain": [
       "   longitude  latitude  housing_median_age  total_rooms  total_bedrooms  \\\n",
       "0    -122.23     37.88                41.0        880.0           129.0   \n",
       "1    -122.22     37.86                21.0       7099.0          1106.0   \n",
       "2    -122.24     37.85                52.0       1467.0           190.0   \n",
       "3    -122.25     37.85                52.0       1274.0           235.0   \n",
       "4    -122.25     37.85                52.0       1627.0           280.0   \n",
       "\n",
       "   population  households  median_income  median_house_value ocean_proximity  \n",
       "0       322.0       126.0         8.3252            452600.0        NEAR BAY  \n",
       "1      2401.0      1138.0         8.3014            358500.0        NEAR BAY  \n",
       "2       496.0       177.0         7.2574            352100.0        NEAR BAY  \n",
       "3       558.0       219.0         5.6431            341300.0        NEAR BAY  \n",
       "4       565.0       259.0         3.8462            342200.0        NEAR BAY  "
      ]
     },
     "execution_count": 70,
     "metadata": {},
     "output_type": "execute_result"
    }
   ],
   "source": [
    "data = pd.read_csv(r\"C:\\Users\\giant\\Downloads\\housing.csv\")\n",
    "data.head()\n",
    "#This data details information on selected California homes in 1990.\n",
    "#Each record is a \"cluster\", as defined by the Census Bureau,\n",
    "#and consists of a neighborhood of homes and some various features of them. \n",
    "#Here we have all our input variables. Latitide and Longitude are geographical coordinates,\n",
    "#the total rooms/bedrooms are features of all houses in that cluster, \n",
    "#ocean proximity is a category defining how close to the Pacific that neighborhood is, while\n",
    "#population and median age/income/value are all statistics of that cluster.\n",
    "#We aim to predict the value of the house, given the parameters. "
   ]
  },
  {
   "cell_type": "code",
   "execution_count": 86,
   "metadata": {},
   "outputs": [
    {
     "data": {
      "text/plain": [
       "(20433, 10)"
      ]
     },
     "execution_count": 86,
     "metadata": {},
     "output_type": "execute_result"
    }
   ],
   "source": [
    "data=data.dropna()\n",
    "data.shape\n",
    "#Our dataset is large, so we can afford to drop all records with missing values"
   ]
  },
  {
   "cell_type": "code",
   "execution_count": 73,
   "metadata": {},
   "outputs": [
    {
     "data": {
      "text/html": [
       "<div>\n",
       "<style scoped>\n",
       "    .dataframe tbody tr th:only-of-type {\n",
       "        vertical-align: middle;\n",
       "    }\n",
       "\n",
       "    .dataframe tbody tr th {\n",
       "        vertical-align: top;\n",
       "    }\n",
       "\n",
       "    .dataframe thead th {\n",
       "        text-align: right;\n",
       "    }\n",
       "</style>\n",
       "<table border=\"1\" class=\"dataframe\">\n",
       "  <thead>\n",
       "    <tr style=\"text-align: right;\">\n",
       "      <th></th>\n",
       "      <th>longitude</th>\n",
       "      <th>latitude</th>\n",
       "      <th>housing_median_age</th>\n",
       "      <th>total_rooms</th>\n",
       "      <th>total_bedrooms</th>\n",
       "      <th>population</th>\n",
       "      <th>households</th>\n",
       "      <th>median_income</th>\n",
       "      <th>median_house_value</th>\n",
       "    </tr>\n",
       "  </thead>\n",
       "  <tbody>\n",
       "    <tr>\n",
       "      <th>count</th>\n",
       "      <td>20640.000000</td>\n",
       "      <td>20640.000000</td>\n",
       "      <td>20640.000000</td>\n",
       "      <td>20640.000000</td>\n",
       "      <td>20433.000000</td>\n",
       "      <td>20640.000000</td>\n",
       "      <td>20640.000000</td>\n",
       "      <td>20640.000000</td>\n",
       "      <td>20640.000000</td>\n",
       "    </tr>\n",
       "    <tr>\n",
       "      <th>mean</th>\n",
       "      <td>-119.569704</td>\n",
       "      <td>35.631861</td>\n",
       "      <td>28.639486</td>\n",
       "      <td>2635.763081</td>\n",
       "      <td>537.870553</td>\n",
       "      <td>1425.476744</td>\n",
       "      <td>499.539680</td>\n",
       "      <td>3.870671</td>\n",
       "      <td>206855.816909</td>\n",
       "    </tr>\n",
       "    <tr>\n",
       "      <th>std</th>\n",
       "      <td>2.003532</td>\n",
       "      <td>2.135952</td>\n",
       "      <td>12.585558</td>\n",
       "      <td>2181.615252</td>\n",
       "      <td>421.385070</td>\n",
       "      <td>1132.462122</td>\n",
       "      <td>382.329753</td>\n",
       "      <td>1.899822</td>\n",
       "      <td>115395.615874</td>\n",
       "    </tr>\n",
       "    <tr>\n",
       "      <th>min</th>\n",
       "      <td>-124.350000</td>\n",
       "      <td>32.540000</td>\n",
       "      <td>1.000000</td>\n",
       "      <td>2.000000</td>\n",
       "      <td>1.000000</td>\n",
       "      <td>3.000000</td>\n",
       "      <td>1.000000</td>\n",
       "      <td>0.499900</td>\n",
       "      <td>14999.000000</td>\n",
       "    </tr>\n",
       "    <tr>\n",
       "      <th>25%</th>\n",
       "      <td>-121.800000</td>\n",
       "      <td>33.930000</td>\n",
       "      <td>18.000000</td>\n",
       "      <td>1447.750000</td>\n",
       "      <td>296.000000</td>\n",
       "      <td>787.000000</td>\n",
       "      <td>280.000000</td>\n",
       "      <td>2.563400</td>\n",
       "      <td>119600.000000</td>\n",
       "    </tr>\n",
       "    <tr>\n",
       "      <th>50%</th>\n",
       "      <td>-118.490000</td>\n",
       "      <td>34.260000</td>\n",
       "      <td>29.000000</td>\n",
       "      <td>2127.000000</td>\n",
       "      <td>435.000000</td>\n",
       "      <td>1166.000000</td>\n",
       "      <td>409.000000</td>\n",
       "      <td>3.534800</td>\n",
       "      <td>179700.000000</td>\n",
       "    </tr>\n",
       "    <tr>\n",
       "      <th>75%</th>\n",
       "      <td>-118.010000</td>\n",
       "      <td>37.710000</td>\n",
       "      <td>37.000000</td>\n",
       "      <td>3148.000000</td>\n",
       "      <td>647.000000</td>\n",
       "      <td>1725.000000</td>\n",
       "      <td>605.000000</td>\n",
       "      <td>4.743250</td>\n",
       "      <td>264725.000000</td>\n",
       "    </tr>\n",
       "    <tr>\n",
       "      <th>max</th>\n",
       "      <td>-114.310000</td>\n",
       "      <td>41.950000</td>\n",
       "      <td>52.000000</td>\n",
       "      <td>39320.000000</td>\n",
       "      <td>6445.000000</td>\n",
       "      <td>35682.000000</td>\n",
       "      <td>6082.000000</td>\n",
       "      <td>15.000100</td>\n",
       "      <td>500001.000000</td>\n",
       "    </tr>\n",
       "  </tbody>\n",
       "</table>\n",
       "</div>"
      ],
      "text/plain": [
       "          longitude      latitude  housing_median_age   total_rooms  \\\n",
       "count  20640.000000  20640.000000        20640.000000  20640.000000   \n",
       "mean    -119.569704     35.631861           28.639486   2635.763081   \n",
       "std        2.003532      2.135952           12.585558   2181.615252   \n",
       "min     -124.350000     32.540000            1.000000      2.000000   \n",
       "25%     -121.800000     33.930000           18.000000   1447.750000   \n",
       "50%     -118.490000     34.260000           29.000000   2127.000000   \n",
       "75%     -118.010000     37.710000           37.000000   3148.000000   \n",
       "max     -114.310000     41.950000           52.000000  39320.000000   \n",
       "\n",
       "       total_bedrooms    population    households  median_income  \\\n",
       "count    20433.000000  20640.000000  20640.000000   20640.000000   \n",
       "mean       537.870553   1425.476744    499.539680       3.870671   \n",
       "std        421.385070   1132.462122    382.329753       1.899822   \n",
       "min          1.000000      3.000000      1.000000       0.499900   \n",
       "25%        296.000000    787.000000    280.000000       2.563400   \n",
       "50%        435.000000   1166.000000    409.000000       3.534800   \n",
       "75%        647.000000   1725.000000    605.000000       4.743250   \n",
       "max       6445.000000  35682.000000   6082.000000      15.000100   \n",
       "\n",
       "       median_house_value  \n",
       "count        20640.000000  \n",
       "mean        206855.816909  \n",
       "std         115395.615874  \n",
       "min          14999.000000  \n",
       "25%         119600.000000  \n",
       "50%         179700.000000  \n",
       "75%         264725.000000  \n",
       "max         500001.000000  "
      ]
     },
     "execution_count": 73,
     "metadata": {},
     "output_type": "execute_result"
    }
   ],
   "source": [
    "data.describe()\n",
    "#Standard summary statistics of each variable in our dataset.\n",
    "#Ocean proximity is omitted due to it being categorical."
   ]
  },
  {
   "cell_type": "code",
   "execution_count": 5,
   "metadata": {},
   "outputs": [
    {
     "data": {
      "text/plain": [
       "array([[<matplotlib.axes._subplots.AxesSubplot object at 0x000001E054813AC8>,\n",
       "        <matplotlib.axes._subplots.AxesSubplot object at 0x000001E0554DDE88>,\n",
       "        <matplotlib.axes._subplots.AxesSubplot object at 0x000001E0564E7CC8>],\n",
       "       [<matplotlib.axes._subplots.AxesSubplot object at 0x000001E05651FE08>,\n",
       "        <matplotlib.axes._subplots.AxesSubplot object at 0x000001E056556F08>,\n",
       "        <matplotlib.axes._subplots.AxesSubplot object at 0x000001E05658CF88>],\n",
       "       [<matplotlib.axes._subplots.AxesSubplot object at 0x000001E0565CC108>,\n",
       "        <matplotlib.axes._subplots.AxesSubplot object at 0x000001E056606248>,\n",
       "        <matplotlib.axes._subplots.AxesSubplot object at 0x000001E05660BE08>]],\n",
       "      dtype=object)"
      ]
     },
     "execution_count": 5,
     "metadata": {},
     "output_type": "execute_result"
    },
    {
     "data": {
      "image/png": "[encoded data removed]",
      "text/plain": [
       "<Figure size 1440x1080 with 9 Axes>"
      ]
     },
     "metadata": {
      "needs_background": "light"
     },
     "output_type": "display_data"
    }
   ],
   "source": [
    "data.hist(bins=50, figsize=(20,15))\n",
    "#Histograms of each of the nine variables of interest. \n",
    "#Of special note is our target, the median house value. It appears the max value to be counted\n",
    "#has been set at 50,000. This will need to be accounted for in our analysis. \n",
    "#Many variables appear to be heavily skewed right"
   ]
  },
  {
   "cell_type": "code",
   "execution_count": 6,
   "metadata": {},
   "outputs": [
    {
     "data": {
      "text/plain": [
       "500001.0    958\n",
       "137500.0    119\n",
       "162500.0    116\n",
       "112500.0    103\n",
       "187500.0     92\n",
       "           ... \n",
       "420500.0      1\n",
       "419000.0      1\n",
       "443000.0      1\n",
       "343600.0      1\n",
       "319500.0      1\n",
       "Name: median_house_value, Length: 3833, dtype: int64"
      ]
     },
     "execution_count": 6,
     "metadata": {},
     "output_type": "execute_result"
    }
   ],
   "source": [
    "data['median_house_value'].value_counts()\n",
    "#Value counts for our target variable. Note ~4% of the data is beyond this clipped maximum"
   ]
  },
  {
   "cell_type": "code",
   "execution_count": 7,
   "metadata": {},
   "outputs": [
    {
     "data": {
      "text/plain": [
       "<1H OCEAN     9034\n",
       "INLAND        6496\n",
       "NEAR OCEAN    2628\n",
       "NEAR BAY      2270\n",
       "ISLAND           5\n",
       "Name: ocean_proximity, dtype: int64"
      ]
     },
     "execution_count": 7,
     "metadata": {},
     "output_type": "execute_result"
    }
   ],
   "source": [
    "data['ocean_proximity'].value_counts()\n",
    "#Value counts for the categorical variable"
   ]
  },
  {
   "cell_type": "code",
   "execution_count": 96,
   "metadata": {},
   "outputs": [],
   "source": [
    "Xtrain=data.drop(['median_house_value','ocean_proximity'],axis=1)\n",
    "ytrain=data['median_house_value']\n",
    "#Setting our regressor and regressand matricies. \n",
    "#We will attempt to predict the median house value by using the numerical variables,\n",
    "#and will use linear regression to accomplish this. "
   ]
  },
  {
   "cell_type": "code",
   "execution_count": 97,
   "metadata": {},
   "outputs": [
    {
     "data": {
      "text/html": [
       "<table class=\"simpletable\">\n",
       "<caption>OLS Regression Results</caption>\n",
       "<tr>\n",
       "  <th>Dep. Variable:</th>    <td>median_house_value</td> <th>  R-squared:         </th>  <td>   0.637</td>  \n",
       "</tr>\n",
       "<tr>\n",
       "  <th>Model:</th>                    <td>OLS</td>        <th>  Adj. R-squared:    </th>  <td>   0.637</td>  \n",
       "</tr>\n",
       "<tr>\n",
       "  <th>Method:</th>              <td>Least Squares</td>   <th>  F-statistic:       </th>  <td>   4478.</td>  \n",
       "</tr>\n",
       "<tr>\n",
       "  <th>Date:</th>              <td>Sun, 28 Mar 2021</td>  <th>  Prob (F-statistic):</th>   <td>  0.00</td>   \n",
       "</tr>\n",
       "<tr>\n",
       "  <th>Time:</th>                  <td>02:58:55</td>      <th>  Log-Likelihood:    </th> <td>-2.5682e+05</td>\n",
       "</tr>\n",
       "<tr>\n",
       "  <th>No. Observations:</th>       <td> 20433</td>       <th>  AIC:               </th>  <td>5.137e+05</td> \n",
       "</tr>\n",
       "<tr>\n",
       "  <th>Df Residuals:</th>           <td> 20424</td>       <th>  BIC:               </th>  <td>5.137e+05</td> \n",
       "</tr>\n",
       "<tr>\n",
       "  <th>Df Model:</th>               <td>     8</td>       <th>                     </th>      <td> </td>     \n",
       "</tr>\n",
       "<tr>\n",
       "  <th>Covariance Type:</th>       <td>nonrobust</td>     <th>                     </th>      <td> </td>     \n",
       "</tr>\n",
       "</table>\n",
       "<table class=\"simpletable\">\n",
       "<tr>\n",
       "           <td></td>             <th>coef</th>     <th>std err</th>      <th>t</th>      <th>P>|t|</th>  <th>[0.025</th>    <th>0.975]</th>  \n",
       "</tr>\n",
       "<tr>\n",
       "  <th>const</th>              <td>-3.585e+06</td> <td> 6.29e+04</td> <td>  -57.001</td> <td> 0.000</td> <td>-3.71e+06</td> <td>-3.46e+06</td>\n",
       "</tr>\n",
       "<tr>\n",
       "  <th>longitude</th>          <td>-4.273e+04</td> <td>  717.087</td> <td>  -59.588</td> <td> 0.000</td> <td>-4.41e+04</td> <td>-4.13e+04</td>\n",
       "</tr>\n",
       "<tr>\n",
       "  <th>latitude</th>           <td>-4.251e+04</td> <td>  676.952</td> <td>  -62.796</td> <td> 0.000</td> <td>-4.38e+04</td> <td>-4.12e+04</td>\n",
       "</tr>\n",
       "<tr>\n",
       "  <th>housing_median_age</th> <td> 1157.9003</td> <td>   43.389</td> <td>   26.687</td> <td> 0.000</td> <td> 1072.855</td> <td> 1242.945</td>\n",
       "</tr>\n",
       "<tr>\n",
       "  <th>total_rooms</th>        <td>   -8.2497</td> <td>    0.794</td> <td>  -10.387</td> <td> 0.000</td> <td>   -9.807</td> <td>   -6.693</td>\n",
       "</tr>\n",
       "<tr>\n",
       "  <th>total_bedrooms</th>     <td>  113.8207</td> <td>    6.931</td> <td>   16.423</td> <td> 0.000</td> <td>  100.236</td> <td>  127.405</td>\n",
       "</tr>\n",
       "<tr>\n",
       "  <th>population</th>         <td>  -38.3856</td> <td>    1.084</td> <td>  -35.407</td> <td> 0.000</td> <td>  -40.511</td> <td>  -36.261</td>\n",
       "</tr>\n",
       "<tr>\n",
       "  <th>households</th>         <td>   47.7014</td> <td>    7.547</td> <td>    6.321</td> <td> 0.000</td> <td>   32.909</td> <td>   62.493</td>\n",
       "</tr>\n",
       "<tr>\n",
       "  <th>median_income</th>      <td>  4.03e+04</td> <td>  337.207</td> <td>  119.504</td> <td> 0.000</td> <td> 3.96e+04</td> <td>  4.1e+04</td>\n",
       "</tr>\n",
       "</table>\n",
       "<table class=\"simpletable\">\n",
       "<tr>\n",
       "  <th>Omnibus:</th>       <td>4898.534</td> <th>  Durbin-Watson:     </th> <td>   0.975</td> \n",
       "</tr>\n",
       "<tr>\n",
       "  <th>Prob(Omnibus):</th>  <td> 0.000</td>  <th>  Jarque-Bera (JB):  </th> <td>18260.733</td>\n",
       "</tr>\n",
       "<tr>\n",
       "  <th>Skew:</th>           <td> 1.166</td>  <th>  Prob(JB):          </th> <td>    0.00</td> \n",
       "</tr>\n",
       "<tr>\n",
       "  <th>Kurtosis:</th>       <td> 7.002</td>  <th>  Cond. No.          </th> <td>5.10e+05</td> \n",
       "</tr>\n",
       "</table><br/><br/>Warnings:<br/>[1] Standard Errors assume that the covariance matrix of the errors is correctly specified.<br/>[2] The condition number is large, 5.1e+05. This might indicate that there are<br/>strong multicollinearity or other numerical problems."
      ],
      "text/plain": [
       "<class 'statsmodels.iolib.summary.Summary'>\n",
       "\"\"\"\n",
       "                            OLS Regression Results                            \n",
       "==============================================================================\n",
       "Dep. Variable:     median_house_value   R-squared:                       0.637\n",
       "Model:                            OLS   Adj. R-squared:                  0.637\n",
       "Method:                 Least Squares   F-statistic:                     4478.\n",
       "Date:                Sun, 28 Mar 2021   Prob (F-statistic):               0.00\n",
       "Time:                        02:58:55   Log-Likelihood:            -2.5682e+05\n",
       "No. Observations:               20433   AIC:                         5.137e+05\n",
       "Df Residuals:                   20424   BIC:                         5.137e+05\n",
       "Df Model:                           8                                         \n",
       "Covariance Type:            nonrobust                                         \n",
       "======================================================================================\n",
       "                         coef    std err          t      P>|t|      [0.025      0.975]\n",
       "--------------------------------------------------------------------------------------\n",
       "const              -3.585e+06   6.29e+04    -57.001      0.000   -3.71e+06   -3.46e+06\n",
       "longitude          -4.273e+04    717.087    -59.588      0.000   -4.41e+04   -4.13e+04\n",
       "latitude           -4.251e+04    676.952    -62.796      0.000   -4.38e+04   -4.12e+04\n",
       "housing_median_age  1157.9003     43.389     26.687      0.000    1072.855    1242.945\n",
       "total_rooms           -8.2497      0.794    -10.387      0.000      -9.807      -6.693\n",
       "total_bedrooms       113.8207      6.931     16.423      0.000     100.236     127.405\n",
       "population           -38.3856      1.084    -35.407      0.000     -40.511     -36.261\n",
       "households            47.7014      7.547      6.321      0.000      32.909      62.493\n",
       "median_income        4.03e+04    337.207    119.504      0.000    3.96e+04     4.1e+04\n",
       "==============================================================================\n",
       "Omnibus:                     4898.534   Durbin-Watson:                   0.975\n",
       "Prob(Omnibus):                  0.000   Jarque-Bera (JB):            18260.733\n",
       "Skew:                           1.166   Prob(JB):                         0.00\n",
       "Kurtosis:                       7.002   Cond. No.                     5.10e+05\n",
       "==============================================================================\n",
       "\n",
       "Warnings:\n",
       "[1] Standard Errors assume that the covariance matrix of the errors is correctly specified.\n",
       "[2] The condition number is large, 5.1e+05. This might indicate that there are\n",
       "strong multicollinearity or other numerical problems.\n",
       "\"\"\""
      ]
     },
     "execution_count": 97,
     "metadata": {},
     "output_type": "execute_result"
    }
   ],
   "source": [
    "from sklearn.linear_model import LinearRegression\n",
    "from sklearn.metrics import mean_squared_error\n",
    "import matplotlib.pyplot as plt\n",
    "\n",
    "import statsmodels.api as sm\n",
    "X = sm.add_constant(Xtrain)\n",
    "results = sm.OLS(ytrain,X).fit()\n",
    "results.summary()  \n",
    "\n",
    "#Summary of our Linear regression output. Our full mathematical model, with rounded constants, is:\n",
    "#Median_House_Value=-3,596,000-42,810*Longitude-42,810*Latitude+1162*Median_Age\n",
    "#-9*Total_Rooms+109*Total_Bedrooms-37*Population+53*Households+40,530*Median_Income\n",
    "#We have an R^2 of .637, an F of 4478, and all t have p-values very small.\n",
    "#These indicate our model is a good fit for the data, and has strong predictive power"
   ]
  },
  {
   "cell_type": "code",
   "execution_count": 108,
   "metadata": {},
   "outputs": [
    {
     "data": {
      "text/plain": [
       "<matplotlib.axes._subplots.AxesSubplot at 0x1e05e918808>"
      ]
     },
     "execution_count": 108,
     "metadata": {},
     "output_type": "execute_result"
    },
    {
     "data": {
      "image/png": "[encoded data removed]",
      "text/plain": [
       "<Figure size 576x360 with 1 Axes>"
      ]
     },
     "metadata": {
      "needs_background": "light"
     },
     "output_type": "display_data"
    }
   ],
   "source": [
    "data2=data[data['median_house_value']<500000]\n",
    "data2['median_house_value'].hist(bins=50,figsize=(8,5))\n",
    "#If we run the model again, but try omitting the cutoff values,\n",
    "#the plot below does show a more realistic distribution.\n",
    "#But, in the next cell we see the model actually does appear to lose some predicitve power."
   ]
  },
  {
   "cell_type": "code",
   "execution_count": 109,
   "metadata": {},
   "outputs": [
    {
     "data": {
      "text/html": [
       "<table class=\"simpletable\">\n",
       "<caption>OLS Regression Results</caption>\n",
       "<tr>\n",
       "  <th>Dep. Variable:</th>    <td>median_house_value</td> <th>  R-squared:         </th>  <td>   0.604</td>  \n",
       "</tr>\n",
       "<tr>\n",
       "  <th>Model:</th>                    <td>OLS</td>        <th>  Adj. R-squared:    </th>  <td>   0.603</td>  \n",
       "</tr>\n",
       "<tr>\n",
       "  <th>Method:</th>              <td>Least Squares</td>   <th>  F-statistic:       </th>  <td>   3699.</td>  \n",
       "</tr>\n",
       "<tr>\n",
       "  <th>Date:</th>              <td>Sun, 28 Mar 2021</td>  <th>  Prob (F-statistic):</th>   <td>  0.00</td>   \n",
       "</tr>\n",
       "<tr>\n",
       "  <th>Time:</th>                  <td>03:07:31</td>      <th>  Log-Likelihood:    </th> <td>-2.4193e+05</td>\n",
       "</tr>\n",
       "<tr>\n",
       "  <th>No. Observations:</th>       <td> 19448</td>       <th>  AIC:               </th>  <td>4.839e+05</td> \n",
       "</tr>\n",
       "<tr>\n",
       "  <th>Df Residuals:</th>           <td> 19439</td>       <th>  BIC:               </th>  <td>4.839e+05</td> \n",
       "</tr>\n",
       "<tr>\n",
       "  <th>Df Model:</th>               <td>     8</td>       <th>                     </th>      <td> </td>     \n",
       "</tr>\n",
       "<tr>\n",
       "  <th>Covariance Type:</th>       <td>nonrobust</td>     <th>                     </th>      <td> </td>     \n",
       "</tr>\n",
       "</table>\n",
       "<table class=\"simpletable\">\n",
       "<tr>\n",
       "           <td></td>             <th>coef</th>     <th>std err</th>      <th>t</th>      <th>P>|t|</th>  <th>[0.025</th>    <th>0.975]</th>  \n",
       "</tr>\n",
       "<tr>\n",
       "  <th>const</th>              <td>-3.313e+06</td> <td> 5.65e+04</td> <td>  -58.609</td> <td> 0.000</td> <td>-3.42e+06</td> <td> -3.2e+06</td>\n",
       "</tr>\n",
       "<tr>\n",
       "  <th>longitude</th>          <td> -3.93e+04</td> <td>  645.127</td> <td>  -60.918</td> <td> 0.000</td> <td>-4.06e+04</td> <td> -3.8e+04</td>\n",
       "</tr>\n",
       "<tr>\n",
       "  <th>latitude</th>           <td>-3.862e+04</td> <td>  607.614</td> <td>  -63.560</td> <td> 0.000</td> <td>-3.98e+04</td> <td>-3.74e+04</td>\n",
       "</tr>\n",
       "<tr>\n",
       "  <th>housing_median_age</th> <td>  999.2492</td> <td>   39.986</td> <td>   24.990</td> <td> 0.000</td> <td>  920.873</td> <td> 1077.625</td>\n",
       "</tr>\n",
       "<tr>\n",
       "  <th>total_rooms</th>        <td>   -9.4802</td> <td>    0.742</td> <td>  -12.779</td> <td> 0.000</td> <td>  -10.934</td> <td>   -8.026</td>\n",
       "</tr>\n",
       "<tr>\n",
       "  <th>total_bedrooms</th>     <td>  104.7093</td> <td>    6.279</td> <td>   16.676</td> <td> 0.000</td> <td>   92.402</td> <td>  117.017</td>\n",
       "</tr>\n",
       "<tr>\n",
       "  <th>population</th>         <td>  -30.1824</td> <td>    0.973</td> <td>  -31.030</td> <td> 0.000</td> <td>  -32.089</td> <td>  -28.276</td>\n",
       "</tr>\n",
       "<tr>\n",
       "  <th>households</th>         <td>   40.9754</td> <td>    6.713</td> <td>    6.103</td> <td> 0.000</td> <td>   27.816</td> <td>   54.134</td>\n",
       "</tr>\n",
       "<tr>\n",
       "  <th>median_income</th>      <td> 3.979e+04</td> <td>  374.478</td> <td>  106.250</td> <td> 0.000</td> <td> 3.91e+04</td> <td> 4.05e+04</td>\n",
       "</tr>\n",
       "</table>\n",
       "<table class=\"simpletable\">\n",
       "<tr>\n",
       "  <th>Omnibus:</th>       <td>3675.516</td> <th>  Durbin-Watson:     </th> <td>   0.968</td> \n",
       "</tr>\n",
       "<tr>\n",
       "  <th>Prob(Omnibus):</th>  <td> 0.000</td>  <th>  Jarque-Bera (JB):  </th> <td>11613.626</td>\n",
       "</tr>\n",
       "<tr>\n",
       "  <th>Skew:</th>           <td> 0.968</td>  <th>  Prob(JB):          </th> <td>    0.00</td> \n",
       "</tr>\n",
       "<tr>\n",
       "  <th>Kurtosis:</th>       <td> 6.253</td>  <th>  Cond. No.          </th> <td>5.09e+05</td> \n",
       "</tr>\n",
       "</table><br/><br/>Warnings:<br/>[1] Standard Errors assume that the covariance matrix of the errors is correctly specified.<br/>[2] The condition number is large, 5.09e+05. This might indicate that there are<br/>strong multicollinearity or other numerical problems."
      ],
      "text/plain": [
       "<class 'statsmodels.iolib.summary.Summary'>\n",
       "\"\"\"\n",
       "                            OLS Regression Results                            \n",
       "==============================================================================\n",
       "Dep. Variable:     median_house_value   R-squared:                       0.604\n",
       "Model:                            OLS   Adj. R-squared:                  0.603\n",
       "Method:                 Least Squares   F-statistic:                     3699.\n",
       "Date:                Sun, 28 Mar 2021   Prob (F-statistic):               0.00\n",
       "Time:                        03:07:31   Log-Likelihood:            -2.4193e+05\n",
       "No. Observations:               19448   AIC:                         4.839e+05\n",
       "Df Residuals:                   19439   BIC:                         4.839e+05\n",
       "Df Model:                           8                                         \n",
       "Covariance Type:            nonrobust                                         \n",
       "======================================================================================\n",
       "                         coef    std err          t      P>|t|      [0.025      0.975]\n",
       "--------------------------------------------------------------------------------------\n",
       "const              -3.313e+06   5.65e+04    -58.609      0.000   -3.42e+06    -3.2e+06\n",
       "longitude           -3.93e+04    645.127    -60.918      0.000   -4.06e+04    -3.8e+04\n",
       "latitude           -3.862e+04    607.614    -63.560      0.000   -3.98e+04   -3.74e+04\n",
       "housing_median_age   999.2492     39.986     24.990      0.000     920.873    1077.625\n",
       "total_rooms           -9.4802      0.742    -12.779      0.000     -10.934      -8.026\n",
       "total_bedrooms       104.7093      6.279     16.676      0.000      92.402     117.017\n",
       "population           -30.1824      0.973    -31.030      0.000     -32.089     -28.276\n",
       "households            40.9754      6.713      6.103      0.000      27.816      54.134\n",
       "median_income       3.979e+04    374.478    106.250      0.000    3.91e+04    4.05e+04\n",
       "==============================================================================\n",
       "Omnibus:                     3675.516   Durbin-Watson:                   0.968\n",
       "Prob(Omnibus):                  0.000   Jarque-Bera (JB):            11613.626\n",
       "Skew:                           0.968   Prob(JB):                         0.00\n",
       "Kurtosis:                       6.253   Cond. No.                     5.09e+05\n",
       "==============================================================================\n",
       "\n",
       "Warnings:\n",
       "[1] Standard Errors assume that the covariance matrix of the errors is correctly specified.\n",
       "[2] The condition number is large, 5.09e+05. This might indicate that there are\n",
       "strong multicollinearity or other numerical problems.\n",
       "\"\"\""
      ]
     },
     "execution_count": 109,
     "metadata": {},
     "output_type": "execute_result"
    }
   ],
   "source": [
    "Xtrain2=data2.drop(['median_house_value','ocean_proximity'],axis=1)\n",
    "ytrain2=data2['median_house_value']\n",
    "X2 = sm.add_constant(Xtrain2)\n",
    "results2 = sm.OLS(ytrain2,X2).fit()\n",
    "results2.summary() \n",
    "#The slightly lower  and lower R^2 suggest we might be better off\n",
    "#leaving the cutoff values in the data. To understand why, \n",
    "#we must step back and remember what we are analyzing.\n",
    "#The cutoff values represent the top 4% of neighboorhoods in California. \n",
    "#The most valuable neighborhoods probably also have more rooms,\n",
    "#more income, fewer houses and a smaller population. This is also \n",
    "#reflected in the similar shapes of the variable graphs from before.\n",
    "#Therefore, we can conclude that the first model, with all the data,\n",
    "#is the best predictive model for estimating the median house value of a given cluster. "
   ]
  },
  {
   "cell_type": "code",
   "execution_count": null,
   "metadata": {},
   "outputs": [],
   "source": []
  }
 ],
 "metadata": {
  "kernelspec": {
   "display_name": "Python 3",
   "language": "python",
   "name": "python3"
  },
  "language_info": {
   "codemirror_mode": {
    "name": "ipython",
    "version": 3
   },
   "file_extension": ".py",
   "mimetype": "text/x-python",
   "name": "python",
   "nbconvert_exporter": "python",
   "pygments_lexer": "ipython3",
   "version": "3.7.6"
  }
 },
 "nbformat": 4,
 "nbformat_minor": 4
}
